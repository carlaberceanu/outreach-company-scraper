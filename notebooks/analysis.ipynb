{
 "cells": [
  {
   "cell_type": "markdown",
   "metadata": {},
   "source": [
    "## Task 2: Cleaning, Removing Duplicates & Segmenting Payment‑Gateway Companies\n",
    "\n",
    "### Project Overview\n",
    "**Context**  \n",
    "This mini‑project cleans, deduplicates and segments a raw list of payment‑gateway companies scraped online. The end goal is to turn an unstructured CSV into an analysis‑ready dataset that can power market sizing, competitor mapping or outreach strategies.\n",
    "\n",
    "**Problem statement**  \n",
    "> “We have a noisy scrape.  How do we turn it into reliable groups we can reason about?”\n",
    "\n",
    "Specifically we need to:\n",
    "1. Normalise obvious data quality issues (missing URLs, inconsistent industry tags).  \n",
    "2. Remove duplicate companies that appear under slight naming variations.  \n",
    "3. Segement into 3 new fields `size_bucket`, `region`, `sub_sector` so we can slice the market quickly.  \n",
    "4. Export a clean CSV that any BI tool can use easily without extra handling."
   ]
  },
  {
   "cell_type": "markdown",
   "metadata": {},
   "source": [
    "#### STEP 1: Imports & Exploring"
   ]
  },
  {
   "cell_type": "code",
   "execution_count": 87,
   "metadata": {},
   "outputs": [],
   "source": [
    "import pandas as pd\n",
    "import re\n",
    "\n",
    "import matplotlib.pyplot as plt"
   ]
  },
  {
   "cell_type": "code",
   "execution_count": null,
   "metadata": {},
   "outputs": [
    {
     "name": "stdout",
     "output_type": "stream",
     "text": [
      "Raw dataset shape: (50, 7)\n"
     ]
    },
    {
     "data": {
      "text/html": [
       "<div>\n",
       "<style scoped>\n",
       "    .dataframe tbody tr th:only-of-type {\n",
       "        vertical-align: middle;\n",
       "    }\n",
       "\n",
       "    .dataframe tbody tr th {\n",
       "        vertical-align: top;\n",
       "    }\n",
       "\n",
       "    .dataframe thead th {\n",
       "        text-align: right;\n",
       "    }\n",
       "</style>\n",
       "<table border=\"1\" class=\"dataframe\">\n",
       "  <thead>\n",
       "    <tr style=\"text-align: right;\">\n",
       "      <th></th>\n",
       "      <th>name</th>\n",
       "      <th>website</th>\n",
       "      <th>location</th>\n",
       "      <th>region</th>\n",
       "      <th>employee_size</th>\n",
       "      <th>industries</th>\n",
       "      <th>keywords</th>\n",
       "    </tr>\n",
       "  </thead>\n",
       "  <tbody>\n",
       "    <tr>\n",
       "      <th>0</th>\n",
       "      <td>Mastercard Payment Gateway Services</td>\n",
       "      <td>NaN</td>\n",
       "      <td>London, United Kingdom</td>\n",
       "      <td>UK</td>\n",
       "      <td>54.0</td>\n",
       "      <td>Information Technology &amp; Services</td>\n",
       "      <td>pci dss compliance</td>\n",
       "    </tr>\n",
       "    <tr>\n",
       "      <th>1</th>\n",
       "      <td>Easy Payment Gateway</td>\n",
       "      <td>http://www.easypaymentgateway.com/</td>\n",
       "      <td>Mijas, Spain</td>\n",
       "      <td>Europe</td>\n",
       "      <td>19.0</td>\n",
       "      <td>Financial Services</td>\n",
       "      <td>NaN</td>\n",
       "    </tr>\n",
       "    <tr>\n",
       "      <th>2</th>\n",
       "      <td>Payment Gateway</td>\n",
       "      <td>http://www.paygatewayonline.com/</td>\n",
       "      <td>London, United Kingdom</td>\n",
       "      <td>UK</td>\n",
       "      <td>47.0</td>\n",
       "      <td>Financial Services</td>\n",
       "      <td>epos finance</td>\n",
       "    </tr>\n",
       "    <tr>\n",
       "      <th>3</th>\n",
       "      <td>BazPAY - Payment Gateway</td>\n",
       "      <td>http://www.bazpay.com/</td>\n",
       "      <td>London, United Kingdom</td>\n",
       "      <td>UK</td>\n",
       "      <td>3.0</td>\n",
       "      <td>Financial Services</td>\n",
       "      <td>charity; blockchain</td>\n",
       "    </tr>\n",
       "    <tr>\n",
       "      <th>4</th>\n",
       "      <td>B2B Payment Gateway</td>\n",
       "      <td>http://www.processingb2b.com/</td>\n",
       "      <td>Boston, Massachusetts</td>\n",
       "      <td>Americas</td>\n",
       "      <td>1.0</td>\n",
       "      <td>Financial Services</td>\n",
       "      <td>NaN</td>\n",
       "    </tr>\n",
       "  </tbody>\n",
       "</table>\n",
       "</div>"
      ],
      "text/plain": [
       "                                  name                             website  \\\n",
       "0  Mastercard Payment Gateway Services                                 NaN   \n",
       "1                 Easy Payment Gateway  http://www.easypaymentgateway.com/   \n",
       "2                      Payment Gateway    http://www.paygatewayonline.com/   \n",
       "3             BazPAY - Payment Gateway              http://www.bazpay.com/   \n",
       "4                  B2B Payment Gateway       http://www.processingb2b.com/   \n",
       "\n",
       "                 location    region  employee_size  \\\n",
       "0  London, United Kingdom        UK           54.0   \n",
       "1            Mijas, Spain    Europe           19.0   \n",
       "2  London, United Kingdom        UK           47.0   \n",
       "3  London, United Kingdom        UK            3.0   \n",
       "4   Boston, Massachusetts  Americas            1.0   \n",
       "\n",
       "                          industries             keywords  \n",
       "0  Information Technology & Services   pci dss compliance  \n",
       "1                 Financial Services                  NaN  \n",
       "2                 Financial Services         epos finance  \n",
       "3                 Financial Services  charity; blockchain  \n",
       "4                 Financial Services                  NaN  "
      ]
     },
     "execution_count": 66,
     "metadata": {},
     "output_type": "execute_result"
    }
   ],
   "source": [
    "data = pd.read_csv(\"../data/payment_gateways.csv\")\n",
    "print(f\"Raw dataset shape: {data.shape}\")\n",
    "data.head()"
   ]
  },
  {
   "cell_type": "code",
   "execution_count": 67,
   "metadata": {},
   "outputs": [
    {
     "data": {
      "text/html": [
       "<div>\n",
       "<style scoped>\n",
       "    .dataframe tbody tr th:only-of-type {\n",
       "        vertical-align: middle;\n",
       "    }\n",
       "\n",
       "    .dataframe tbody tr th {\n",
       "        vertical-align: top;\n",
       "    }\n",
       "\n",
       "    .dataframe thead th {\n",
       "        text-align: right;\n",
       "    }\n",
       "</style>\n",
       "<table border=\"1\" class=\"dataframe\">\n",
       "  <thead>\n",
       "    <tr style=\"text-align: right;\">\n",
       "      <th></th>\n",
       "      <th>employee_size</th>\n",
       "    </tr>\n",
       "  </thead>\n",
       "  <tbody>\n",
       "    <tr>\n",
       "      <th>count</th>\n",
       "      <td>48.000000</td>\n",
       "    </tr>\n",
       "    <tr>\n",
       "      <th>mean</th>\n",
       "      <td>40.458333</td>\n",
       "    </tr>\n",
       "    <tr>\n",
       "      <th>std</th>\n",
       "      <td>105.279761</td>\n",
       "    </tr>\n",
       "    <tr>\n",
       "      <th>min</th>\n",
       "      <td>1.000000</td>\n",
       "    </tr>\n",
       "    <tr>\n",
       "      <th>25%</th>\n",
       "      <td>2.000000</td>\n",
       "    </tr>\n",
       "    <tr>\n",
       "      <th>50%</th>\n",
       "      <td>3.000000</td>\n",
       "    </tr>\n",
       "    <tr>\n",
       "      <th>75%</th>\n",
       "      <td>22.750000</td>\n",
       "    </tr>\n",
       "    <tr>\n",
       "      <th>max</th>\n",
       "      <td>500.000000</td>\n",
       "    </tr>\n",
       "  </tbody>\n",
       "</table>\n",
       "</div>"
      ],
      "text/plain": [
       "       employee_size\n",
       "count      48.000000\n",
       "mean       40.458333\n",
       "std       105.279761\n",
       "min         1.000000\n",
       "25%         2.000000\n",
       "50%         3.000000\n",
       "75%        22.750000\n",
       "max       500.000000"
      ]
     },
     "execution_count": 67,
     "metadata": {},
     "output_type": "execute_result"
    }
   ],
   "source": [
    "data.describe()"
   ]
  },
  {
   "cell_type": "code",
   "execution_count": 68,
   "metadata": {},
   "outputs": [
    {
     "name": "stdout",
     "output_type": "stream",
     "text": [
      "<class 'pandas.core.frame.DataFrame'>\n",
      "RangeIndex: 50 entries, 0 to 49\n",
      "Data columns (total 7 columns):\n",
      " #   Column         Non-Null Count  Dtype  \n",
      "---  ------         --------------  -----  \n",
      " 0   name           50 non-null     object \n",
      " 1   website        32 non-null     object \n",
      " 2   location       50 non-null     object \n",
      " 3   region         50 non-null     object \n",
      " 4   employee_size  48 non-null     float64\n",
      " 5   industries     48 non-null     object \n",
      " 6   keywords       30 non-null     object \n",
      "dtypes: float64(1), object(6)\n",
      "memory usage: 2.9+ KB\n"
     ]
    }
   ],
   "source": [
    "data.info()"
   ]
  },
  {
   "cell_type": "code",
   "execution_count": 69,
   "metadata": {},
   "outputs": [
    {
     "data": {
      "text/plain": [
       "name                                                       website                           location                 region    employee_size  industries                         keywords               \n",
       "B1 payment gateway, Malta                                  http://www.b1gate.com/            Montana, US              Americas  1.0            Banking                            easy payment solutions     2\n",
       "BazPAY - Payment Gateway                                   http://www.bazpay.com/            London, United Kingdom   UK        3.0            Financial Services                 charity; blockchain        2\n",
       "Cashila, Bitcoin Payment Gateway                           http://www.cashila.com/           Brno, Czechia            Europe    2.0            Financial Services                 payment systems            2\n",
       "Cpos Payment Gateway                                       http://www.cpos.cloud/            Dover, Delaware          Americas  3.0            Information Technology & Services  iot; cryptocurrency        2\n",
       "Flash • The Bitcoin Payment Gateway                        http://www.paywithflash.com/      Newark, Delaware         Americas  3.0            Financial Services                 bitcoin payments           2\n",
       "KDS CardPay- Payment Gateway for Tech Support              http://www.kdscardpay.com/        Ontario, California      Americas  200.0          Financial Services                 payment through master     2\n",
       "Merchant eCheck Payment Gateway                            http://www.1stprocess.com/        Las Vegas, Nevada        Americas  50.0           Financial Services                 architectural solutions    2\n",
       "Nimera — Crypto Payment Gateway                            http://www.nimera.io/             Warszawa, Poland         Europe    2.0            Financial Services                 lightning network          2\n",
       "Onchainpay.io - powerfull cryptocurrency payment gateway.  http://www.onchainpay.io/         Vilnius, Lithuania       Europe    3.0            Financial Services                 crypto                     2\n",
       "Payment Gateway                                            http://www.paygatewayonline.com/  London, United Kingdom   UK        47.0           Financial Services                 epos finance               2\n",
       "StripePros - Payment Gateway Integration Services          http://www.stripepros.com/        Santa Clara, California  Americas  1.0            +2                                 stripe developer           2\n",
       "T.E Payment Gateway                                        http://www.tepgateway.com/        Seal Beach, California   Americas  1.0            Banking                            crypto currency            2\n",
       "Name: count, dtype: int64"
      ]
     },
     "execution_count": 69,
     "metadata": {},
     "output_type": "execute_result"
    }
   ],
   "source": [
    "data.value_counts()"
   ]
  },
  {
   "cell_type": "code",
   "execution_count": 70,
   "metadata": {},
   "outputs": [
    {
     "name": "stdout",
     "output_type": "stream",
     "text": [
      "this is the length 50\n"
     ]
    }
   ],
   "source": [
    "print(\"this is the length {x}\".format(x=len(data)))"
   ]
  },
  {
   "cell_type": "code",
   "execution_count": 71,
   "metadata": {},
   "outputs": [
    {
     "name": "stdout",
     "output_type": "stream",
     "text": [
      "\n",
      "— name —\n"
     ]
    },
    {
     "data": {
      "text/plain": [
       "name\n",
       "Payment Gateway                                                                                         4\n",
       "Mastercard Payment Gateway Services                                                                     2\n",
       "Tenerum Payment Gateway, LLC                                                                            2\n",
       "Pay | Omni-Channel | eCommerce | Payment Gateway | Data Security | Analytics | ERP & CRM Integration    2\n",
       "KDS CardPay- Payment Gateway for Tech Support                                                           2\n",
       "B1 payment gateway, Malta                                                                               2\n",
       "PAYMENT GATEWAY SOLUTIONS LIMITED                                                                       2\n",
       "StripePros - Payment Gateway Integration Services                                                       2\n",
       "Zapp Payment Gateway                                                                                    2\n",
       "T.E Payment Gateway                                                                                     2\n",
       "Forex Merchant Account. Payment Service Provider. Online Payment Gateway. IAGACO                        2\n",
       "Nimera — Crypto Payment Gateway                                                                         2\n",
       "White Label Payment Gateway                                                                             2\n",
       "Easy Payment Gateway                                                                                    2\n",
       "Cashila, Bitcoin Payment Gateway                                                                        2\n",
       "Cpos Payment Gateway                                                                                    2\n",
       "Merchant eCheck Payment Gateway                                                                         2\n",
       "Woocommerce Payment Gateway Plugins                                                                     2\n",
       "Onchainpay.io - powerfull cryptocurrency payment gateway.                                               2\n",
       "Flash • The Bitcoin Payment Gateway                                                                     2\n",
       "WBD Client's Payment Gateway                                                                            2\n",
       "B2B Payment Gateway                                                                                     2\n",
       "BazPAY - Payment Gateway                                                                                2\n",
       "FastCharge Payment Gateway                                                                              2\n",
       "Name: count, dtype: int64"
      ]
     },
     "metadata": {},
     "output_type": "display_data"
    },
    {
     "name": "stdout",
     "output_type": "stream",
     "text": [
      "\n",
      "— website —\n"
     ]
    },
    {
     "data": {
      "text/plain": [
       "website\n",
       "NaN                                   18\n",
       "http://www.cashila.com/                2\n",
       "http://www.kdscardpay.com/             2\n",
       "http://www.b1gate.com/                 2\n",
       "http://www.stripepros.com/             2\n",
       "http://www.tepgateway.com/             2\n",
       "http://www.nimera.io/                  2\n",
       "http://www.tenerum.com/                2\n",
       "http://www.cpos.cloud/                 2\n",
       "http://www.easypaymentgateway.com/     2\n",
       "http://www.1stprocess.com/             2\n",
       "http://www.onchainpay.io/              2\n",
       "http://www.paywithflash.com/           2\n",
       "http://www.processingb2b.com/          2\n",
       "http://www.bazpay.com/                 2\n",
       "http://www.paygatewayonline.com/       2\n",
       "http://www.fastcharge.com/             2\n",
       "Name: count, dtype: int64"
      ]
     },
     "metadata": {},
     "output_type": "display_data"
    },
    {
     "name": "stdout",
     "output_type": "stream",
     "text": [
      "\n",
      "— location —\n"
     ]
    },
    {
     "data": {
      "text/plain": [
       "location\n",
       "London, United Kingdom       6\n",
       "Vilnius, Lithuania           4\n",
       "Warszawa, Poland             2\n",
       "Detroit, Michigan            2\n",
       "Ontario, California          2\n",
       "Montana, US                  2\n",
       "England, United Kingdom      2\n",
       "Santa Clara, California      2\n",
       "Tempe, Arizona               2\n",
       "Seal Beach, California       2\n",
       "Limassol, Cyprus             2\n",
       "Saint Petersburg, Florida    2\n",
       "Mijas, Spain                 2\n",
       "Brno, Czechia                2\n",
       "Dover, Delaware              2\n",
       "Las Vegas, Nevada            2\n",
       "Fremont, California          2\n",
       "Newark, Delaware             2\n",
       "Mount Vernon, New York       2\n",
       "Berlin, Germany              2\n",
       "Boston, Massachusetts        2\n",
       "Spokane, Washington          2\n",
       "Name: count, dtype: int64"
      ]
     },
     "metadata": {},
     "output_type": "display_data"
    },
    {
     "name": "stdout",
     "output_type": "stream",
     "text": [
      "\n",
      "— region —\n"
     ]
    },
    {
     "data": {
      "text/plain": [
       "region\n",
       "Americas    28\n",
       "Europe      14\n",
       "UK           8\n",
       "Name: count, dtype: int64"
      ]
     },
     "metadata": {},
     "output_type": "display_data"
    },
    {
     "name": "stdout",
     "output_type": "stream",
     "text": [
      "\n",
      "— employee_size —\n"
     ]
    },
    {
     "data": {
      "text/plain": [
       "employee_size\n",
       "3.0      12\n",
       "1.0       8\n",
       "2.0       8\n",
       "54.0      2\n",
       "19.0      2\n",
       "47.0      2\n",
       "17.0      2\n",
       "34.0      2\n",
       "500.0     2\n",
       "50.0      2\n",
       "15.0      2\n",
       "5.0       2\n",
       "200.0     2\n",
       "NaN       2\n",
       "Name: count, dtype: int64"
      ]
     },
     "metadata": {},
     "output_type": "display_data"
    },
    {
     "name": "stdout",
     "output_type": "stream",
     "text": [
      "\n",
      "— industries —\n"
     ]
    },
    {
     "data": {
      "text/plain": [
       "industries\n",
       "Financial Services                   30\n",
       "Information Technology & Services     8\n",
       "Banking                               4\n",
       "Capital Markets                       2\n",
       "Management Consulting                 2\n",
       "+2                                    2\n",
       "NaN                                   2\n",
       "Name: count, dtype: int64"
      ]
     },
     "metadata": {},
     "output_type": "display_data"
    },
    {
     "name": "stdout",
     "output_type": "stream",
     "text": [
      "\n",
      "— keywords —\n"
     ]
    },
    {
     "data": {
      "text/plain": [
       "keywords\n",
       "NaN                        20\n",
       "pci dss compliance          2\n",
       "epos finance                2\n",
       "charity; blockchain         2\n",
       "paypal payment system       2\n",
       "bitcoin payments            2\n",
       "crypto                      2\n",
       "architectural solutions     2\n",
       "iot; cryptocurrency         2\n",
       "payment systems             2\n",
       "lightning network           2\n",
       "psp                         2\n",
       "crypto currency             2\n",
       "stripe developer            2\n",
       "easy payment solutions      2\n",
       "payment through master      2\n",
       "Name: count, dtype: int64"
      ]
     },
     "metadata": {},
     "output_type": "display_data"
    }
   ],
   "source": [
    "for col in data.columns:\n",
    "    print(f\"\\n— {col} —\")\n",
    "    display(data[col].value_counts(dropna=False)) "
   ]
  },
  {
   "cell_type": "markdown",
   "metadata": {},
   "source": [
    "#### STEP 2: Cleaning"
   ]
  },
  {
   "cell_type": "code",
   "execution_count": 72,
   "metadata": {},
   "outputs": [
    {
     "name": "stdout",
     "output_type": "stream",
     "text": [
      "<class 'pandas.core.frame.DataFrame'>\n",
      "Index: 25 entries, 0 to 24\n",
      "Data columns (total 7 columns):\n",
      " #   Column         Non-Null Count  Dtype  \n",
      "---  ------         --------------  -----  \n",
      " 0   name           25 non-null     object \n",
      " 1   website        16 non-null     object \n",
      " 2   location       25 non-null     object \n",
      " 3   region         25 non-null     object \n",
      " 4   employee_size  24 non-null     float64\n",
      " 5   industries     24 non-null     object \n",
      " 6   keywords       15 non-null     object \n",
      "dtypes: float64(1), object(6)\n",
      "memory usage: 1.6+ KB\n"
     ]
    }
   ],
   "source": [
    "# Handling duplicates\n",
    "data = data.drop_duplicates(subset=[\"name\", \"website\"], keep=\"first\")\n",
    "data.info()"
   ]
  },
  {
   "cell_type": "markdown",
   "metadata": {},
   "source": [
    "Handling missing website URLs\n",
    "\n",
    "Empty cells (blank or NaN) are replaced with the string **`\"Unknown\"`** so downstream logic can treat them uniformly."
   ]
  },
  {
   "cell_type": "code",
   "execution_count": 73,
   "metadata": {},
   "outputs": [],
   "source": [
    "mask_missing_web = data[\"website\"].isna() | (data[\"website\"].str.strip() == \"\")\n",
    "data.loc[mask_missing_web, \"website\"] = \"Unknown\""
   ]
  },
  {
   "cell_type": "code",
   "execution_count": 74,
   "metadata": {},
   "outputs": [
    {
     "data": {
      "text/plain": [
       "array(['Information Technology & Services', 'Financial Services',\n",
       "       'Capital Markets', 'Management Consulting', 'Banking', '+2', nan],\n",
       "      dtype=object)"
      ]
     },
     "execution_count": 74,
     "metadata": {},
     "output_type": "execute_result"
    }
   ],
   "source": [
    "data[\"industries\"].unique()"
   ]
  },
  {
   "cell_type": "markdown",
   "metadata": {},
   "source": [
    "Manual data corrections\n",
    "\n",
    "1. **`StripePros`** – overwrite self-researched industry on the +2 value\n",
    "\n",
    "2. **`FastCharge Payment Gateway`** – removed entry due to insufficient data on industry or employee_size."
   ]
  },
  {
   "cell_type": "code",
   "execution_count": 75,
   "metadata": {},
   "outputs": [],
   "source": [
    "is_stripepros = data[\"name\"].str.contains(\"stripepros\", case=False, na=False)\n",
    "data.loc[is_stripepros, \"industries\"] = \"Information Technology & Services\"\n",
    "\n",
    "is_fastcharge = data[\"name\"].str.contains(\"fastcharge payment gateway\", case=False, na=False)\n",
    "data = data[~is_fastcharge]"
   ]
  },
  {
   "cell_type": "markdown",
   "metadata": {},
   "source": [
    "#### STEP 3: Segmentation"
   ]
  },
  {
   "cell_type": "markdown",
   "metadata": {},
   "source": [
    "1. Segmenting the **employee_size** field into 4 range buckets for easier analysis."
   ]
  },
  {
   "cell_type": "code",
   "execution_count": 76,
   "metadata": {},
   "outputs": [],
   "source": [
    "size_pattern = re.compile(r\"(\\d+)\")\n",
    "\n",
    "def size_bucket(cell):\n",
    "    if pd.isna(cell):\n",
    "        return \"Unknown\"\n",
    "    match = size_pattern.search(str(cell).replace(\",\", \"\"))\n",
    "    if not match:\n",
    "        return \"Unknown\"\n",
    "    n = int(match.group(1))\n",
    "    if n < 20:\n",
    "        return \"Micro (1‑19)\"\n",
    "    elif n < 100:\n",
    "        return \"Small (20‑99)\"\n",
    "    elif n < 500:\n",
    "        return \"Mid (100‑499)\"\n",
    "    elif n < 2000:\n",
    "        return \"Large (500‑1999)\"\n",
    "    else:\n",
    "        return \"Enterprise (2000+)\"\n",
    "\n",
    "# Apply & store\n",
    "data[\"size_bucket\"] = data[\"employee_size\"].apply(size_bucket)"
   ]
  },
  {
   "cell_type": "markdown",
   "metadata": {},
   "source": [
    "2. Sub‑sector tagging (keyword‑driven)"
   ]
  },
  {
   "cell_type": "code",
   "execution_count": 77,
   "metadata": {},
   "outputs": [
    {
     "data": {
      "text/plain": [
       "array(['pci dss compliance', nan, 'epos finance', 'charity; blockchain',\n",
       "       'paypal payment system', 'bitcoin payments', 'crypto',\n",
       "       'architectural solutions', 'iot; cryptocurrency',\n",
       "       'payment systems', 'lightning network', 'psp', 'crypto currency',\n",
       "       'stripe developer', 'easy payment solutions',\n",
       "       'payment through master'], dtype=object)"
      ]
     },
     "execution_count": 77,
     "metadata": {},
     "output_type": "execute_result"
    }
   ],
   "source": [
    "data[\"keywords\"].unique()"
   ]
  },
  {
   "cell_type": "code",
   "execution_count": 78,
   "metadata": {},
   "outputs": [],
   "source": [
    "SECTOR_RULES = [\n",
    "    (\"Crypto / Digital Assets\",  [\"crypto\", \"bitcoin\", \"blockchain\", \"cryptocurrency\", \"lightning\"]),\n",
    "    (\"POS Solutions\",             [\"pos\", \"epos\", \"retail\"]),\n",
    "    (\"Developer‑friendly APIs\",   [\"stripe\", \"developer\", \"api\", \"sdk\", \"architectural\"]),\n",
    "    (\"Cross‑border / FX\",         [\"cross-border\", \"international\", \"fx\"]),\n",
    "]\n",
    "\n",
    "def tag_subsector(keyword_str):\n",
    "    if pd.isna(keyword_str) or keyword_str.strip() == \"\":\n",
    "        return \"General Gateway\"\n",
    "    kw_lower = keyword_str.lower()\n",
    "    for label, needles in SECTOR_RULES:\n",
    "        if any(n in kw_lower for n in needles):\n",
    "            return label\n",
    "    return \"General Gateway\"\n",
    "\n",
    "# Apply\n",
    "data[\"sub_sector\"] = data[\"keywords\"].apply(tag_subsector)"
   ]
  },
  {
   "cell_type": "markdown",
   "metadata": {},
   "source": [
    "#### STEP 4: Exporting"
   ]
  },
  {
   "cell_type": "code",
   "execution_count": 82,
   "metadata": {},
   "outputs": [],
   "source": [
    "final_file_path = \"../data/segmented_payment_gateway_companies.csv\"\n",
    "data.to_csv(final_file_path, index=False)"
   ]
  },
  {
   "cell_type": "code",
   "execution_count": 80,
   "metadata": {},
   "outputs": [
    {
     "data": {
      "text/html": [
       "<div>\n",
       "<style scoped>\n",
       "    .dataframe tbody tr th:only-of-type {\n",
       "        vertical-align: middle;\n",
       "    }\n",
       "\n",
       "    .dataframe tbody tr th {\n",
       "        vertical-align: top;\n",
       "    }\n",
       "\n",
       "    .dataframe thead th {\n",
       "        text-align: right;\n",
       "    }\n",
       "</style>\n",
       "<table border=\"1\" class=\"dataframe\">\n",
       "  <thead>\n",
       "    <tr style=\"text-align: right;\">\n",
       "      <th>size_bucket</th>\n",
       "      <th>Large (500‑1999)</th>\n",
       "      <th>Micro (1‑19)</th>\n",
       "      <th>Mid (100‑499)</th>\n",
       "      <th>Small (20‑99)</th>\n",
       "    </tr>\n",
       "    <tr>\n",
       "      <th>region</th>\n",
       "      <th></th>\n",
       "      <th></th>\n",
       "      <th></th>\n",
       "      <th></th>\n",
       "    </tr>\n",
       "  </thead>\n",
       "  <tbody>\n",
       "    <tr>\n",
       "      <th>Americas</th>\n",
       "      <td>1</td>\n",
       "      <td>9</td>\n",
       "      <td>1</td>\n",
       "      <td>2</td>\n",
       "    </tr>\n",
       "    <tr>\n",
       "      <th>Europe</th>\n",
       "      <td>0</td>\n",
       "      <td>7</td>\n",
       "      <td>0</td>\n",
       "      <td>0</td>\n",
       "    </tr>\n",
       "    <tr>\n",
       "      <th>UK</th>\n",
       "      <td>0</td>\n",
       "      <td>2</td>\n",
       "      <td>0</td>\n",
       "      <td>2</td>\n",
       "    </tr>\n",
       "  </tbody>\n",
       "</table>\n",
       "</div>"
      ],
      "text/plain": [
       "size_bucket  Large (500‑1999)  Micro (1‑19)  Mid (100‑499)  Small (20‑99)\n",
       "region                                                                   \n",
       "Americas                    1             9              1              2\n",
       "Europe                      0             7              0              0\n",
       "UK                          0             2              0              2"
      ]
     },
     "execution_count": 80,
     "metadata": {},
     "output_type": "execute_result"
    }
   ],
   "source": [
    "summary = (\n",
    "    data.groupby([\"region\", \"size_bucket\"])\n",
    "      .size()\n",
    "      .unstack(fill_value=0)\n",
    "      .sort_index()\n",
    ")\n",
    "summary"
   ]
  },
  {
   "cell_type": "markdown",
   "metadata": {},
   "source": [
    "#### STEP 5: Descriptive Statistics\n",
    "\n",
    "Before jumping into fancier techniques, I’ll explore the cleaned dataset with simple counts and pivot tables.\n",
    "\n",
    "Key questions to answer:\n",
    "\n",
    "* What is the overall distribution of `region`, `size_bucket`, and `sub_sector`?  \n",
    "* How do sub-sectors vary by region?  \n",
    "* Are there noticeable gaps (e.g. many “Unknown” employee sizes in a given region)?\n"
   ]
  },
  {
   "cell_type": "code",
   "execution_count": 85,
   "metadata": {},
   "outputs": [
    {
     "data": {
      "text/html": [
       "<style type=\"text/css\">\n",
       "</style>\n",
       "<table id=\"T_124c6\">\n",
       "  <caption>region</caption>\n",
       "  <thead>\n",
       "    <tr>\n",
       "      <th class=\"blank level0\" >&nbsp;</th>\n",
       "      <th id=\"T_124c6_level0_col0\" class=\"col_heading level0 col0\" >count</th>\n",
       "    </tr>\n",
       "    <tr>\n",
       "      <th class=\"index_name level0\" >region</th>\n",
       "      <th class=\"blank col0\" >&nbsp;</th>\n",
       "    </tr>\n",
       "  </thead>\n",
       "  <tbody>\n",
       "    <tr>\n",
       "      <th id=\"T_124c6_level0_row0\" class=\"row_heading level0 row0\" >Americas</th>\n",
       "      <td id=\"T_124c6_row0_col0\" class=\"data row0 col0\" >13</td>\n",
       "    </tr>\n",
       "    <tr>\n",
       "      <th id=\"T_124c6_level0_row1\" class=\"row_heading level0 row1\" >Europe</th>\n",
       "      <td id=\"T_124c6_row1_col0\" class=\"data row1 col0\" >7</td>\n",
       "    </tr>\n",
       "    <tr>\n",
       "      <th id=\"T_124c6_level0_row2\" class=\"row_heading level0 row2\" >UK</th>\n",
       "      <td id=\"T_124c6_row2_col0\" class=\"data row2 col0\" >4</td>\n",
       "    </tr>\n",
       "  </tbody>\n",
       "</table>\n"
      ],
      "text/plain": [
       "<pandas.io.formats.style.Styler at 0x12a37f470>"
      ]
     },
     "metadata": {},
     "output_type": "display_data"
    },
    {
     "data": {
      "text/html": [
       "<style type=\"text/css\">\n",
       "</style>\n",
       "<table id=\"T_8aa8d\">\n",
       "  <caption>size_bucket</caption>\n",
       "  <thead>\n",
       "    <tr>\n",
       "      <th class=\"blank level0\" >&nbsp;</th>\n",
       "      <th id=\"T_8aa8d_level0_col0\" class=\"col_heading level0 col0\" >count</th>\n",
       "    </tr>\n",
       "    <tr>\n",
       "      <th class=\"index_name level0\" >size_bucket</th>\n",
       "      <th class=\"blank col0\" >&nbsp;</th>\n",
       "    </tr>\n",
       "  </thead>\n",
       "  <tbody>\n",
       "    <tr>\n",
       "      <th id=\"T_8aa8d_level0_row0\" class=\"row_heading level0 row0\" >Micro (1‑19)</th>\n",
       "      <td id=\"T_8aa8d_row0_col0\" class=\"data row0 col0\" >18</td>\n",
       "    </tr>\n",
       "    <tr>\n",
       "      <th id=\"T_8aa8d_level0_row1\" class=\"row_heading level0 row1\" >Small (20‑99)</th>\n",
       "      <td id=\"T_8aa8d_row1_col0\" class=\"data row1 col0\" >4</td>\n",
       "    </tr>\n",
       "    <tr>\n",
       "      <th id=\"T_8aa8d_level0_row2\" class=\"row_heading level0 row2\" >Large (500‑1999)</th>\n",
       "      <td id=\"T_8aa8d_row2_col0\" class=\"data row2 col0\" >1</td>\n",
       "    </tr>\n",
       "    <tr>\n",
       "      <th id=\"T_8aa8d_level0_row3\" class=\"row_heading level0 row3\" >Mid (100‑499)</th>\n",
       "      <td id=\"T_8aa8d_row3_col0\" class=\"data row3 col0\" >1</td>\n",
       "    </tr>\n",
       "  </tbody>\n",
       "</table>\n"
      ],
      "text/plain": [
       "<pandas.io.formats.style.Styler at 0x12a37f3e0>"
      ]
     },
     "metadata": {},
     "output_type": "display_data"
    },
    {
     "data": {
      "text/html": [
       "<style type=\"text/css\">\n",
       "</style>\n",
       "<table id=\"T_5ba48\">\n",
       "  <caption>sub_sector</caption>\n",
       "  <thead>\n",
       "    <tr>\n",
       "      <th class=\"blank level0\" >&nbsp;</th>\n",
       "      <th id=\"T_5ba48_level0_col0\" class=\"col_heading level0 col0\" >count</th>\n",
       "    </tr>\n",
       "    <tr>\n",
       "      <th class=\"index_name level0\" >sub_sector</th>\n",
       "      <th class=\"blank col0\" >&nbsp;</th>\n",
       "    </tr>\n",
       "  </thead>\n",
       "  <tbody>\n",
       "    <tr>\n",
       "      <th id=\"T_5ba48_level0_row0\" class=\"row_heading level0 row0\" >General Gateway</th>\n",
       "      <td id=\"T_5ba48_row0_col0\" class=\"data row0 col0\" >15</td>\n",
       "    </tr>\n",
       "    <tr>\n",
       "      <th id=\"T_5ba48_level0_row1\" class=\"row_heading level0 row1\" >Crypto / Digital Assets</th>\n",
       "      <td id=\"T_5ba48_row1_col0\" class=\"data row1 col0\" >6</td>\n",
       "    </tr>\n",
       "    <tr>\n",
       "      <th id=\"T_5ba48_level0_row2\" class=\"row_heading level0 row2\" >Developer‑friendly APIs</th>\n",
       "      <td id=\"T_5ba48_row2_col0\" class=\"data row2 col0\" >2</td>\n",
       "    </tr>\n",
       "    <tr>\n",
       "      <th id=\"T_5ba48_level0_row3\" class=\"row_heading level0 row3\" >POS Solutions</th>\n",
       "      <td id=\"T_5ba48_row3_col0\" class=\"data row3 col0\" >1</td>\n",
       "    </tr>\n",
       "  </tbody>\n",
       "</table>\n"
      ],
      "text/plain": [
       "<pandas.io.formats.style.Styler at 0x12a37de50>"
      ]
     },
     "metadata": {},
     "output_type": "display_data"
    },
    {
     "data": {
      "text/html": [
       "<style type=\"text/css\">\n",
       "</style>\n",
       "<table id=\"T_2f0e9\">\n",
       "  <caption>Region × Sub-sector</caption>\n",
       "  <thead>\n",
       "    <tr>\n",
       "      <th class=\"index_name level0\" >sub_sector</th>\n",
       "      <th id=\"T_2f0e9_level0_col0\" class=\"col_heading level0 col0\" >Crypto / Digital Assets</th>\n",
       "      <th id=\"T_2f0e9_level0_col1\" class=\"col_heading level0 col1\" >Developer‑friendly APIs</th>\n",
       "      <th id=\"T_2f0e9_level0_col2\" class=\"col_heading level0 col2\" >General Gateway</th>\n",
       "      <th id=\"T_2f0e9_level0_col3\" class=\"col_heading level0 col3\" >POS Solutions</th>\n",
       "    </tr>\n",
       "    <tr>\n",
       "      <th class=\"index_name level0\" >region</th>\n",
       "      <th class=\"blank col0\" >&nbsp;</th>\n",
       "      <th class=\"blank col1\" >&nbsp;</th>\n",
       "      <th class=\"blank col2\" >&nbsp;</th>\n",
       "      <th class=\"blank col3\" >&nbsp;</th>\n",
       "    </tr>\n",
       "  </thead>\n",
       "  <tbody>\n",
       "    <tr>\n",
       "      <th id=\"T_2f0e9_level0_row0\" class=\"row_heading level0 row0\" >Americas</th>\n",
       "      <td id=\"T_2f0e9_row0_col0\" class=\"data row0 col0\" >3</td>\n",
       "      <td id=\"T_2f0e9_row0_col1\" class=\"data row0 col1\" >2</td>\n",
       "      <td id=\"T_2f0e9_row0_col2\" class=\"data row0 col2\" >8</td>\n",
       "      <td id=\"T_2f0e9_row0_col3\" class=\"data row0 col3\" >0</td>\n",
       "    </tr>\n",
       "    <tr>\n",
       "      <th id=\"T_2f0e9_level0_row1\" class=\"row_heading level0 row1\" >Europe</th>\n",
       "      <td id=\"T_2f0e9_row1_col0\" class=\"data row1 col0\" >2</td>\n",
       "      <td id=\"T_2f0e9_row1_col1\" class=\"data row1 col1\" >0</td>\n",
       "      <td id=\"T_2f0e9_row1_col2\" class=\"data row1 col2\" >5</td>\n",
       "      <td id=\"T_2f0e9_row1_col3\" class=\"data row1 col3\" >0</td>\n",
       "    </tr>\n",
       "    <tr>\n",
       "      <th id=\"T_2f0e9_level0_row2\" class=\"row_heading level0 row2\" >UK</th>\n",
       "      <td id=\"T_2f0e9_row2_col0\" class=\"data row2 col0\" >1</td>\n",
       "      <td id=\"T_2f0e9_row2_col1\" class=\"data row2 col1\" >0</td>\n",
       "      <td id=\"T_2f0e9_row2_col2\" class=\"data row2 col2\" >2</td>\n",
       "      <td id=\"T_2f0e9_row2_col3\" class=\"data row2 col3\" >1</td>\n",
       "    </tr>\n",
       "  </tbody>\n",
       "</table>\n"
      ],
      "text/plain": [
       "<pandas.io.formats.style.Styler at 0x12a259a00>"
      ]
     },
     "metadata": {},
     "output_type": "display_data"
    },
    {
     "data": {
      "text/html": [
       "<style type=\"text/css\">\n",
       "</style>\n",
       "<table id=\"T_c3a46\">\n",
       "  <caption>Region × Size Bucket</caption>\n",
       "  <thead>\n",
       "    <tr>\n",
       "      <th class=\"index_name level0\" >size_bucket</th>\n",
       "      <th id=\"T_c3a46_level0_col0\" class=\"col_heading level0 col0\" >Large (500‑1999)</th>\n",
       "      <th id=\"T_c3a46_level0_col1\" class=\"col_heading level0 col1\" >Micro (1‑19)</th>\n",
       "      <th id=\"T_c3a46_level0_col2\" class=\"col_heading level0 col2\" >Mid (100‑499)</th>\n",
       "      <th id=\"T_c3a46_level0_col3\" class=\"col_heading level0 col3\" >Small (20‑99)</th>\n",
       "    </tr>\n",
       "    <tr>\n",
       "      <th class=\"index_name level0\" >region</th>\n",
       "      <th class=\"blank col0\" >&nbsp;</th>\n",
       "      <th class=\"blank col1\" >&nbsp;</th>\n",
       "      <th class=\"blank col2\" >&nbsp;</th>\n",
       "      <th class=\"blank col3\" >&nbsp;</th>\n",
       "    </tr>\n",
       "  </thead>\n",
       "  <tbody>\n",
       "    <tr>\n",
       "      <th id=\"T_c3a46_level0_row0\" class=\"row_heading level0 row0\" >Americas</th>\n",
       "      <td id=\"T_c3a46_row0_col0\" class=\"data row0 col0\" >1</td>\n",
       "      <td id=\"T_c3a46_row0_col1\" class=\"data row0 col1\" >9</td>\n",
       "      <td id=\"T_c3a46_row0_col2\" class=\"data row0 col2\" >1</td>\n",
       "      <td id=\"T_c3a46_row0_col3\" class=\"data row0 col3\" >2</td>\n",
       "    </tr>\n",
       "    <tr>\n",
       "      <th id=\"T_c3a46_level0_row1\" class=\"row_heading level0 row1\" >Europe</th>\n",
       "      <td id=\"T_c3a46_row1_col0\" class=\"data row1 col0\" >0</td>\n",
       "      <td id=\"T_c3a46_row1_col1\" class=\"data row1 col1\" >7</td>\n",
       "      <td id=\"T_c3a46_row1_col2\" class=\"data row1 col2\" >0</td>\n",
       "      <td id=\"T_c3a46_row1_col3\" class=\"data row1 col3\" >0</td>\n",
       "    </tr>\n",
       "    <tr>\n",
       "      <th id=\"T_c3a46_level0_row2\" class=\"row_heading level0 row2\" >UK</th>\n",
       "      <td id=\"T_c3a46_row2_col0\" class=\"data row2 col0\" >0</td>\n",
       "      <td id=\"T_c3a46_row2_col1\" class=\"data row2 col1\" >2</td>\n",
       "      <td id=\"T_c3a46_row2_col2\" class=\"data row2 col2\" >0</td>\n",
       "      <td id=\"T_c3a46_row2_col3\" class=\"data row2 col3\" >2</td>\n",
       "    </tr>\n",
       "  </tbody>\n",
       "</table>\n"
      ],
      "text/plain": [
       "<pandas.io.formats.style.Styler at 0x12a2c0350>"
      ]
     },
     "metadata": {},
     "output_type": "display_data"
    }
   ],
   "source": [
    "# Overall counts for the three categorical dimensions\n",
    "for col in [\"region\", \"size_bucket\", \"sub_sector\"]:\n",
    "    display(data[col].value_counts().to_frame(\"count\").style.set_caption(col))\n",
    "\n",
    "# Region × Sub-sector cross-tab\n",
    "pivot_rs = (\n",
    "    data.pivot_table(index=\"region\",\n",
    "                   columns=\"sub_sector\",\n",
    "                   aggfunc=\"size\",\n",
    "                   fill_value=0)\n",
    ")\n",
    "display(pivot_rs.style.set_caption(\"Region × Sub-sector\"))\n",
    "\n",
    "# Region × Size_bucket cross-tab\n",
    "pivot_rsz = (\n",
    "    data.pivot_table(index=\"region\",\n",
    "                   columns=\"size_bucket\",\n",
    "                   aggfunc=\"size\",\n",
    "                   fill_value=0)\n",
    ")\n",
    "display(pivot_rsz.style.set_caption(\"Region × Size Bucket\"))"
   ]
  },
  {
   "cell_type": "code",
   "execution_count": 94,
   "metadata": {},
   "outputs": [
    {
     "data": {
      "text/plain": [
       "<Axes: title={'center': 'Sub-sectors per Region'}, xlabel='region'>"
      ]
     },
     "execution_count": 94,
     "metadata": {},
     "output_type": "execute_result"
    },
    {
     "data": {
      "image/png": "[encoded data removed]",
      "text/plain": [
       "<Figure size 1000x500 with 1 Axes>"
      ]
     },
     "metadata": {},
     "output_type": "display_data"
    }
   ],
   "source": [
    "pivot_rs.plot(kind=\"bar\", stacked=True, figsize=(10,5), title=\"Sub-sectors per Region\")"
   ]
  },
  {
   "cell_type": "markdown",
   "metadata": {},
   "source": [
    "### Visual EDA  \n",
    "A couple of quick bar charts give an immediate feel for dominant segments, potential white-space and any anomalies in employee-size distribution.\n"
   ]
  },
  {
   "cell_type": "code",
   "execution_count": null,
   "metadata": {},
   "outputs": [
    {
     "data": {
      "image/png": "[encoded data removed]",
      "text/plain": [
       "<Figure size 800x400 with 1 Axes>"
      ]
     },
     "metadata": {},
     "output_type": "display_data"
    }
   ],
   "source": [
    "# Employee-size analysis\n",
    "fig, ax = plt.subplots(figsize=(8,4))\n",
    "data[\"size_bucket\"].value_counts().plot(kind=\"bar\", ax=ax, title=\"Employee-size buckets – overall\")\n",
    "ax.set_ylabel(\"Number of companies\")\n",
    "plt.tight_layout()"
   ]
  },
  {
   "cell_type": "code",
   "execution_count": 95,
   "metadata": {},
   "outputs": [
    {
     "data": {
      "image/png": "[encoded data removed]",
      "text/plain": [
       "<Figure size 800x400 with 1 Axes>"
      ]
     },
     "metadata": {},
     "output_type": "display_data"
    }
   ],
   "source": [
    "# Sub-sector analysis\n",
    "fig, ax = plt.subplots(figsize=(8,4))\n",
    "data[\"sub_sector\"].value_counts().plot(kind=\"barh\", ax=ax, title=\"Sub-sector frequency\")\n",
    "ax.set_xlabel(\"Number of companies\")\n",
    "plt.tight_layout()\n"
   ]
  },
  {
   "cell_type": "code",
   "execution_count": 96,
   "metadata": {},
   "outputs": [
    {
     "data": {
      "image/png": "[encoded data removed]",
      "text/plain": [
       "<Figure size 800x400 with 1 Axes>"
      ]
     },
     "metadata": {},
     "output_type": "display_data"
    }
   ],
   "source": [
    "# Industries frequency analysis\n",
    "fig, ax = plt.subplots(figsize=(8,4))\n",
    "data[\"industries\"].value_counts().plot(kind=\"barh\", ax=ax, title=\"Industries frequency\")\n",
    "ax.set_xlabel(\"Number of companies\")\n",
    "plt.tight_layout()"
   ]
  },
  {
   "cell_type": "code",
   "execution_count": 93,
   "metadata": {},
   "outputs": [
    {
     "data": {
      "text/plain": [
       "<Axes: title={'center': 'Industries per Region'}, xlabel='region'>"
      ]
     },
     "execution_count": 93,
     "metadata": {},
     "output_type": "execute_result"
    },
    {
     "data": {
      "image/png": "[encoded data removed]",
      "text/plain": [
       "<Figure size 1000x500 with 1 Axes>"
      ]
     },
     "metadata": {},
     "output_type": "display_data"
    }
   ],
   "source": [
    "# Region × Industries cross-tab\n",
    "pivot_ri = (\n",
    "    data.pivot_table(index=\"region\",\n",
    "                   columns=\"industries\",\n",
    "                   aggfunc=\"size\",\n",
    "                   fill_value=0)\n",
    ")\n",
    "\n",
    "pivot_ri.plot(kind=\"bar\", stacked=True, figsize=(10,5), title=\"Industries per Region\")\n"
   ]
  },
  {
   "cell_type": "markdown",
   "metadata": {},
   "source": [
    "#### STEP 6: Insights & Next Steps\n",
    "\n",
    "\n",
    "| Dimension | Biggest bucket | What it tells us |\n",
    "|-----------|---------------|------------------|\n",
    "| **Region** | Americas (13 / 24) | The scrape is US-heavy; good for English content, but EU localisation is next. |\n",
    "| **Size bucket** | Micro (1-19 employees) | Most players are start-ups ⇒ short decision cycles, founder-led sales. |\n",
    "| **Sub-sector** | General Gateway (15) | Core processing still dominates, but **Crypto (6)** is a fast-growing niche. |\n",
    "| **Industry tag** | Financial Services (15) | Confirms the FinTech focus rather than pure software. |\n",
    "\n",
    "### Key takeaways\n",
    "\n",
    "* **Small teams, big impact.** Three-quarters of the list have < 20 staff. They value hands-on guides and clear pricing more than enterprise Request for Proposals (RFPs).  \n",
    "* **US first, EU second.** Content must cover both US compliance and EU rules so it becomes relevant for the widest possible audience which can be turned into leads.\n",
    "* **Crypto is no longer on the edge.** 25 % of companies highlight crypto/bitcoin in their keywords - a clear content pillar opportunity.  \n",
    "* **Developer voice matters.** Even outside the “Developer-friendly API” tag, most sites pitch “easy integration”, thus, dev-centric assets will land well.\n",
    "\n",
    "### Next steps for a bigger, better dataset  \n",
    "\n",
    "1. **Enrich:** pull funding round, founding year and HQ city from Crunchbase/Integrated APIs.  \n",
    "2. **Grow:** schedule the scraper monthly to spot new entrants & head-count growth.  \n",
    "3. **Smarter segments:** With 24–25 rows and only one numerical feature (employee size buckets), unsupervised clustering will struggle to add real value. If I expand the dataset (≥ 200 rows) and engineer richer features (funding, age, partnerships, tech stack), clustering becomes useful for campaign grouping. \n",
    "4. **Automate dashboards:** plug the cleaned CSV into a Looker Studio board for live monitoring.\n"
   ]
  }
 ],
 "metadata": {
  "kernelspec": {
   "display_name": "base",
   "language": "python",
   "name": "python3"
  },
  "language_info": {
   "codemirror_mode": {
    "name": "ipython",
    "version": 3
   },
   "file_extension": ".py",
   "mimetype": "text/x-python",
   "name": "python",
   "nbconvert_exporter": "python",
   "pygments_lexer": "ipython3",
   "version": "3.12.7"
  }
 },
 "nbformat": 4,
 "nbformat_minor": 2
}
